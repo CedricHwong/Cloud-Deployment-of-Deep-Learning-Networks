{
 "cells": [
  {
   "cell_type": "code",
   "execution_count": 1,
   "metadata": {},
   "outputs": [],
   "source": [
    "import tensorflow as tf\n",
    "import matplotlib.pyplot as plt\n",
    "import numpy as np\n",
    "from skimage.color import rgb2lab, lab2rgb\n",
    "from tensorflow.keras.preprocessing.image import img_to_array, load_img"
   ]
  },
  {
   "cell_type": "code",
   "execution_count": 2,
   "metadata": {},
   "outputs": [
    {
     "name": "stdout",
     "output_type": "stream",
     "text": [
      "Metal device set to: Apple M1 Pro\n",
      "\n",
      "systemMemory: 16.00 GB\n",
      "maxCacheSize: 5.33 GB\n",
      "\n"
     ]
    },
    {
     "name": "stderr",
     "output_type": "stream",
     "text": [
      "2022-05-13 13:13:00.616619: I tensorflow/core/common_runtime/pluggable_device/pluggable_device_factory.cc:305] Could not identify NUMA node of platform GPU ID 0, defaulting to 0. Your kernel may not have been built with NUMA support.\n",
      "2022-05-13 13:13:00.616879: I tensorflow/core/common_runtime/pluggable_device/pluggable_device_factory.cc:271] Created TensorFlow device (/job:localhost/replica:0/task:0/device:GPU:0 with 0 MB memory) -> physical PluggableDevice (device: 0, name: METAL, pci bus id: <undefined>)\n"
     ]
    },
    {
     "ename": "AttributeError",
     "evalue": "'Functional' object has no attribute 'add'",
     "output_type": "error",
     "traceback": [
      "\u001b[0;31m---------------------------------------------------------------------------\u001b[0m",
      "\u001b[0;31mAttributeError\u001b[0m                            Traceback (most recent call last)",
      "\u001b[1;32m/Users/cedrichwong/Desktop/Capstone/Test_Metal/Model_SavedTFlite.ipynb Cell 2'\u001b[0m in \u001b[0;36m<cell line: 6>\u001b[0;34m()\u001b[0m\n\u001b[1;32m      <a href='vscode-notebook-cell:/Users/cedrichwong/Desktop/Capstone/Test_Metal/Model_SavedTFlite.ipynb#ch0000001?line=2'>3</a>\u001b[0m SAVED_MODEL_PATH \u001b[39m=\u001b[39m \u001b[39m'\u001b[39m\u001b[39mmodel_final/0402_3kimg_8-e04_w/Signature\u001b[39m\u001b[39m'\u001b[39m\n\u001b[1;32m      <a href='vscode-notebook-cell:/Users/cedrichwong/Desktop/Capstone/Test_Metal/Model_SavedTFlite.ipynb#ch0000001?line=3'>4</a>\u001b[0m new_model \u001b[39m=\u001b[39m tf\u001b[39m.\u001b[39mkeras\u001b[39m.\u001b[39mmodels\u001b[39m.\u001b[39mload_model(LOAD_PATH)\n\u001b[1;32m      <a href='vscode-notebook-cell:/Users/cedrichwong/Desktop/Capstone/Test_Metal/Model_SavedTFlite.ipynb#ch0000001?line=5'>6</a>\u001b[0m tf\u001b[39m.\u001b[39msaved_model\u001b[39m.\u001b[39msave(\n\u001b[1;32m      <a href='vscode-notebook-cell:/Users/cedrichwong/Desktop/Capstone/Test_Metal/Model_SavedTFlite.ipynb#ch0000001?line=6'>7</a>\u001b[0m     new_model, SAVED_MODEL_PATH,\n\u001b[0;32m----> <a href='vscode-notebook-cell:/Users/cedrichwong/Desktop/Capstone/Test_Metal/Model_SavedTFlite.ipynb#ch0000001?line=7'>8</a>\u001b[0m     signatures\u001b[39m=\u001b[39m{\u001b[39m'\u001b[39m\u001b[39mmy_signature\u001b[39m\u001b[39m'\u001b[39m:new_model\u001b[39m.\u001b[39;49madd\u001b[39m.\u001b[39mget_concrete_function()})\n",
      "\u001b[0;31mAttributeError\u001b[0m: 'Functional' object has no attribute 'add'"
     ]
    }
   ],
   "source": [
    "# \n",
    "LOAD_PATH = 'model_final/0402_3kimg_8-e04'\n",
    "SAVED_MODEL_PATH = 'model_final/0402_3kimg_8-e04_w/Signature'\n",
    "new_model = tf.keras.models.load_model(LOAD_PATH)\n",
    "\n",
    "tf.saved_model.save(\n",
    "    new_model, SAVED_MODEL_PATH,\n",
    "    signatures={'my_signature':new_model.add.get_concrete_function()})\n",
    "\n",
    "# # Convert the model to TF.lite\n",
    "# converter = tf.lite.TFLiteConverter.from_saved_model(\"model_final/0402_3kimg_8-e04\") # path to the SavedModel directory\n",
    "# tflite_model = converter.convert()\n",
    "\n",
    "# # Save the model.\n",
    "# with open('model.tflite', 'wb') as f:\n",
    "#   f.write(tflite_model)"
   ]
  },
  {
   "cell_type": "code",
   "execution_count": null,
   "metadata": {},
   "outputs": [],
   "source": [
    "TFLITE_FILE_PATH = './model.tflite'\n",
    "interpreter = tf.lite.Interpreter(TFLITE_FILE_PATH)\n",
    "interpreter.allocate_tensors()"
   ]
  },
  {
   "cell_type": "code",
   "execution_count": null,
   "metadata": {},
   "outputs": [],
   "source": [
    "signatures = "
   ]
  },
  {
   "cell_type": "code",
   "execution_count": null,
   "metadata": {},
   "outputs": [],
   "source": [
    "INPUT_IMG = interpreter.get_input_details()\n",
    "OUTPUT_IMG = interpreter.get_output_details()"
   ]
  },
  {
   "cell_type": "code",
   "execution_count": null,
   "metadata": {},
   "outputs": [],
   "source": [
    "imgs = []\n",
    "for i in range(20):\n",
    "    imgs.append(img_to_array(load_img(\"./dataset/color/\" + str(i) + \".jpg\", target_size=(256, 256))))\n",
    "# imgs.append(img_to_array(load_img(\"./dataset/DiifGray/WechatIMG65.jpg\", target_size=(256, 256))))\n",
    "imgs = np.array(imgs, dtype=np.float32) / 255.0\n",
    "labs = np.array([rgb2lab(rgb) for rgb in imgs])\n",
    "input_shape = labs[:, :, :, 0]\n",
    "input_shape = input_shape.reshape(input_shape.shape + (1, ))"
   ]
  },
  {
   "cell_type": "code",
   "execution_count": null,
   "metadata": {},
   "outputs": [
    {
     "data": {
      "text/plain": [
       "(20, 256, 256, 1)"
      ]
     },
     "execution_count": 23,
     "metadata": {},
     "output_type": "execute_result"
    }
   ],
   "source": [
    "input_data = input_shape\n",
    "input_data.shape"
   ]
  },
  {
   "cell_type": "code",
   "execution_count": null,
   "metadata": {},
   "outputs": [
    {
     "ename": "ValueError",
     "evalue": "Cannot set tensor: Dimension mismatch. Got 20 but expected 1 for dimension 0 of input 0.",
     "output_type": "error",
     "traceback": [
      "\u001b[0;31m---------------------------------------------------------------------------\u001b[0m",
      "\u001b[0;31mValueError\u001b[0m                                Traceback (most recent call last)",
      "\u001b[1;32m/Users/cedrichwong/Desktop/Capstone/Test_Metal/Model_SavedTFlite.ipynb Cell 7'\u001b[0m in \u001b[0;36m<cell line: 1>\u001b[0;34m()\u001b[0m\n\u001b[0;32m----> <a href='vscode-notebook-cell:/Users/cedrichwong/Desktop/Capstone/Test_Metal/Model_SavedTFlite.ipynb#ch0000006?line=0'>1</a>\u001b[0m interpreter\u001b[39m.\u001b[39;49mset_tensor(INPUT_IMG[\u001b[39m0\u001b[39;49m][\u001b[39m'\u001b[39;49m\u001b[39mindex\u001b[39;49m\u001b[39m'\u001b[39;49m], input_data)\n\u001b[1;32m      <a href='vscode-notebook-cell:/Users/cedrichwong/Desktop/Capstone/Test_Metal/Model_SavedTFlite.ipynb#ch0000006?line=1'>2</a>\u001b[0m \u001b[39m# interpreter.set_tensor(INPUT_IMG[0]['index'], input_data)\u001b[39;00m\n\u001b[1;32m      <a href='vscode-notebook-cell:/Users/cedrichwong/Desktop/Capstone/Test_Metal/Model_SavedTFlite.ipynb#ch0000006?line=3'>4</a>\u001b[0m interpreter\n",
      "File \u001b[0;32m~/miniforge3/envs/Metal_3.8.13/lib/python3.8/site-packages/tensorflow/lite/python/interpreter.py:698\u001b[0m, in \u001b[0;36mInterpreter.set_tensor\u001b[0;34m(self, tensor_index, value)\u001b[0m\n\u001b[1;32m    <a href='file:///Users/cedrichwong/miniforge3/envs/Metal_3.8.13/lib/python3.8/site-packages/tensorflow/lite/python/interpreter.py?line=681'>682</a>\u001b[0m \u001b[39mdef\u001b[39;00m \u001b[39mset_tensor\u001b[39m(\u001b[39mself\u001b[39m, tensor_index, value):\n\u001b[1;32m    <a href='file:///Users/cedrichwong/miniforge3/envs/Metal_3.8.13/lib/python3.8/site-packages/tensorflow/lite/python/interpreter.py?line=682'>683</a>\u001b[0m   \u001b[39m\"\"\"Sets the value of the input tensor.\u001b[39;00m\n\u001b[1;32m    <a href='file:///Users/cedrichwong/miniforge3/envs/Metal_3.8.13/lib/python3.8/site-packages/tensorflow/lite/python/interpreter.py?line=683'>684</a>\u001b[0m \n\u001b[1;32m    <a href='file:///Users/cedrichwong/miniforge3/envs/Metal_3.8.13/lib/python3.8/site-packages/tensorflow/lite/python/interpreter.py?line=684'>685</a>\u001b[0m \u001b[39m  Note this copies data in `value`.\u001b[39;00m\n\u001b[0;32m   (...)\u001b[0m\n\u001b[1;32m    <a href='file:///Users/cedrichwong/miniforge3/envs/Metal_3.8.13/lib/python3.8/site-packages/tensorflow/lite/python/interpreter.py?line=695'>696</a>\u001b[0m \u001b[39m    ValueError: If the interpreter could not set the tensor.\u001b[39;00m\n\u001b[1;32m    <a href='file:///Users/cedrichwong/miniforge3/envs/Metal_3.8.13/lib/python3.8/site-packages/tensorflow/lite/python/interpreter.py?line=696'>697</a>\u001b[0m \u001b[39m  \"\"\"\u001b[39;00m\n\u001b[0;32m--> <a href='file:///Users/cedrichwong/miniforge3/envs/Metal_3.8.13/lib/python3.8/site-packages/tensorflow/lite/python/interpreter.py?line=697'>698</a>\u001b[0m   \u001b[39mself\u001b[39;49m\u001b[39m.\u001b[39;49m_interpreter\u001b[39m.\u001b[39;49mSetTensor(tensor_index, value)\n",
      "\u001b[0;31mValueError\u001b[0m: Cannot set tensor: Dimension mismatch. Got 20 but expected 1 for dimension 0 of input 0."
     ]
    }
   ],
   "source": [
    "interpreter.set_tensor(INPUT_IMG[0]['index'], input_data)\n",
    "# interpreter.set_tensor(INPUT_IMG[0]['index'], input_data)"
   ]
  },
  {
   "cell_type": "code",
   "execution_count": null,
   "metadata": {},
   "outputs": [],
   "source": [
    "interpreter.invoke()"
   ]
  },
  {
   "cell_type": "code",
   "execution_count": null,
   "metadata": {},
   "outputs": [],
   "source": [
    "output_data = interpreter.get_tensor(OUTPUT_IMG[0]['index'])\n",
    "print(output_data)"
   ]
  },
  {
   "cell_type": "code",
   "execution_count": null,
   "metadata": {},
   "outputs": [],
   "source": [
    "y_pred_ab = output_data * 128.0\n",
    "y_pred_lab = np.zeros(labs.shape)\n",
    "for i in range(len(input_data)):\n",
    "    y_pred_lab[i, :, :, 0] = input_data[i].reshape(input_data.shape[1:3])\n",
    "    # y_pred_lab[i, :, :, 0] = x_train[i].reshape(x_test.shape[1:3])\n",
    "    y_pred_lab[i, :, :, 1:] = y_pred_ab[i]"
   ]
  },
  {
   "cell_type": "code",
   "execution_count": null,
   "metadata": {},
   "outputs": [],
   "source": [
    "y_pred_rgb = [lab2rgb(lab) for lab in y_pred_lab]\n",
    "# testSet_rgb = [lab2rgb(lab) for lab in labs]\n",
    "testSet_rgb = imgs\n",
    "y_pred_rgb"
   ]
  },
  {
   "cell_type": "code",
   "execution_count": null,
   "metadata": {},
   "outputs": [],
   "source": [
    "count = 1\n",
    "n_sample = input_data.shape[0]\n",
    "fig = plt.figure(figsize=(9, 3 * n_sample))\n",
    "def extract_single_dim_from_LAB_convert_to_RGB(image, idim):\n",
    "    z = np.zeros(image.shape)\n",
    "    if idim != 0 : z[:, :, 0] = 80 # Brightness\n",
    "    z[:, :, idim] = image[:, :, idim]\n",
    "    z = lab2rgb(z)\n",
    "    return z\n",
    "for test_rgb, pred_rgb, test_lab in zip(testSet_rgb, y_pred_rgb, labs):\n",
    "\n",
    "    ax = fig.add_subplot(n_sample, 3, count)\n",
    "    lab_rgb_gray = extract_single_dim_from_LAB_convert_to_RGB(test_lab, 0) \n",
    "    ax.imshow(lab_rgb_gray)\n",
    "    ax.axis(\"off\")\n",
    "    ax.set_title(\"Input\")\n",
    "    count += 1\n",
    "    \n",
    "    ax = fig.add_subplot(n_sample, 3, count)\n",
    "    ax.imshow(test_rgb)\n",
    "    ax.axis(\"off\")\n",
    "    ax.set_title(\"Ground Truth\")\n",
    "    count += 1\n",
    "\n",
    "    ax = fig.add_subplot(n_sample, 3, count)\n",
    "    ax.imshow(pred_rgb)\n",
    "    ax.axis(\"off\")\n",
    "    ax.set_title(\"Predict\")\n",
    "    count += 1\n",
    "plt.show()"
   ]
  },
  {
   "cell_type": "code",
   "execution_count": null,
   "metadata": {},
   "outputs": [],
   "source": []
  }
 ],
 "metadata": {
  "interpreter": {
   "hash": "ffb726b7ac858114693d7cfbadc8040a207285187d1140bcd7a7b7016ccdd5bb"
  },
  "kernelspec": {
   "display_name": "Python 3.8.13 ('Metal_3.8.13')",
   "language": "python",
   "name": "python3"
  },
  "language_info": {
   "codemirror_mode": {
    "name": "ipython",
    "version": 3
   },
   "file_extension": ".py",
   "mimetype": "text/x-python",
   "name": "python",
   "nbconvert_exporter": "python",
   "pygments_lexer": "ipython3",
   "version": "3.8.13"
  },
  "orig_nbformat": 4
 },
 "nbformat": 4,
 "nbformat_minor": 2
}
